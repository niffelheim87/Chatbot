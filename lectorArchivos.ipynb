{
 "cells": [
  {
   "cell_type": "markdown",
   "metadata": {},
   "source": [
    "### Importaciones"
   ]
  },
  {
   "cell_type": "code",
   "execution_count": 47,
   "metadata": {},
   "outputs": [],
   "source": [
    "import json"
   ]
  },
  {
   "cell_type": "markdown",
   "metadata": {},
   "source": [
    "### Función leer json"
   ]
  },
  {
   "cell_type": "code",
   "execution_count": 48,
   "metadata": {},
   "outputs": [],
   "source": [
    "def leer_archivo_json(nombre_archivo, usuario):\n",
    "    try:\n",
    "        with open(nombre_archivo, \"r\", encoding=\"utf-8\") as archivo:\n",
    "            datos = json.load(archivo)\n",
    "\n",
    "        for registro in datos:\n",
    "            if registro[\"user\"] == usuario:\n",
    "                mensajes = []\n",
    "                for mensaje in registro[\"conversation\"]:\n",
    "                    for emisor, texto in mensaje.items():\n",
    "                        if emisor == \"Bot\":\n",
    "                            mensajes.append(f\"Bot🤖: {texto}\")\n",
    "                        else:\n",
    "                            mensajes.append(f\"{usuario}: {texto}\")\n",
    "                return \"\\n\".join(mensajes)\n",
    "\n",
    "        return \"Usuario no encontrado.\"\n",
    "    except FileNotFoundError:\n",
    "        return \"El archivo no existe.\"\n",
    "    except json.JSONDecodeError:\n",
    "        return \"Error al leer el archivo JSON.\"\n",
    "    except Exception as e:\n",
    "        return f\"Ocurrió un error: {e}\""
   ]
  },
  {
   "cell_type": "markdown",
   "metadata": {},
   "source": [
    "### Función escribir mensaje en json"
   ]
  },
  {
   "cell_type": "code",
   "execution_count": 49,
   "metadata": {},
   "outputs": [],
   "source": [
    "def escribir_mensaje_json(nombre_archivo, usuario, emisor, mensaje):\n",
    "    try:\n",
    "        with open(nombre_archivo, \"r\", encoding=\"utf-8\") as archivo:\n",
    "            datos = json.load(archivo)\n",
    "\n",
    "        for registro in datos:\n",
    "            if registro[\"user\"] == usuario:\n",
    "                registro[\"conversation\"].append({emisor: mensaje})\n",
    "                break\n",
    "        else:\n",
    "            datos.append({\"user\": usuario, \"conversation\": [{emisor: mensaje}]})\n",
    "\n",
    "        with open(nombre_archivo, \"w\", encoding=\"utf-8\") as archivo:\n",
    "            json.dump(datos, archivo, indent=4, ensure_ascii=False)\n",
    "    except FileNotFoundError:\n",
    "        return \"El archivo no existe.\"\n",
    "    except json.JSONDecodeError:\n",
    "        return \"Error al leer el archivo JSON.\"\n",
    "    except Exception as e:\n",
    "        return f\"Ocurrió un error: {e}\""
   ]
  },
  {
   "cell_type": "markdown",
   "metadata": {},
   "source": [
    "### Funcionamiento"
   ]
  },
  {
   "cell_type": "code",
   "execution_count": 50,
   "metadata": {},
   "outputs": [
    {
     "name": "stdout",
     "output_type": "stream",
     "text": [
      "=====================\n",
      "Historial restaurado:\n",
      "=====================\n",
      "dani: Dónde se encuentra el instituto?\n",
      "Bot🤖: El instituto se encuentra en la calle ...\n",
      "dani: Bot: gracias\n",
      "Bot🤖: Un placer\n",
      "\n",
      "=====================\n",
      "Escribe tu mensaje:\n",
      "=====================\n"
     ]
    }
   ],
   "source": [
    "nombre_archivo = \"historial.json\"\n",
    "usuario = \"dani\"\n",
    "\n",
    "historial_restaurado = leer_archivo_json(nombre_archivo, usuario)\n",
    "print(\"=====================\")\n",
    "print(\"Historial restaurado:\")\n",
    "print(\"=====================\")\n",
    "print(historial_restaurado)\n",
    "\n",
    "print(\"\\n=====================\")\n",
    "print(\"Escribe tu mensaje:\")\n",
    "print(\"=====================\")\n",
    "\n",
    "\n",
    "while True:\n",
    "    mensaje = input(\"Introduce tu mensaje (o 'salir' para terminar): \")\n",
    "    if mensaje.lower() == \"salir\":\n",
    "        break\n",
    "    escribir_mensaje_json(nombre_archivo, usuario, \"Yo\", mensaje)\n",
    "    print(f\"{usuario}: {mensaje}\")"
   ]
  }
 ],
 "metadata": {
  "kernelspec": {
   "display_name": "Python 3",
   "language": "python",
   "name": "python3"
  },
  "language_info": {
   "codemirror_mode": {
    "name": "ipython",
    "version": 3
   },
   "file_extension": ".py",
   "mimetype": "text/x-python",
   "name": "python",
   "nbconvert_exporter": "python",
   "pygments_lexer": "ipython3",
   "version": "3.12.6"
  }
 },
 "nbformat": 4,
 "nbformat_minor": 2
}
