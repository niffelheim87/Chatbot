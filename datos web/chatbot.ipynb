{
 "cells": [
  {
   "cell_type": "code",
   "execution_count": 127,
   "metadata": {},
   "outputs": [],
   "source": [
    "import nltk\n",
    "from nltk.chat.util import Chat, reflections\n",
    "import json\n",
    "import re\n",
    "import unicodedata\n",
    "import random\n",
    "import json\n",
    "import os\n",
    "import tkinter as tk\n",
    "from tkinter import scrolledtext, messagebox\n",
    "from datetime import datetime\n",
    "from nltk.chat.util import Chat, reflections"
   ]
  },
  {
   "cell_type": "code",
   "execution_count": 128,
   "metadata": {},
   "outputs": [],
   "source": [
    "\n",
    "#Archivo donde se guarda el historial\n",
    "HISTORIAL_FILE = \"historial.json\""
   ]
  },
  {
   "cell_type": "code",
   "execution_count": 129,
   "metadata": {},
   "outputs": [],
   "source": [
    "def normalizar_texto(texto):\n",
    "    \"\"\"\n",
    "    Convierte texto a minúsculas y elimina tildes para mejorar la coincidencia de patrones.\n",
    "    \"\"\"\n",
    "    texto = texto.lower()\n",
    "    texto = ''.join(c for c in unicodedata.normalize('NFD', texto) if unicodedata.category(c) != 'Mn')  # Elimina tildes\n",
    "    return texto"
   ]
  },
  {
   "cell_type": "code",
   "execution_count": 130,
   "metadata": {},
   "outputs": [],
   "source": [
    "def leer_json_y_generar_patrones_respuestas(ruta_archivo):\n",
    "    with open(ruta_archivo, 'r', encoding='utf-8') as archivo:\n",
    "        data = json.load(archivo)\n",
    "    \n",
    "    patrones_respuestas = []\n",
    "    patrones_unificados = {}  # Para agrupar patrones similares en una sola expresión\n",
    "\n",
    "    for intent in data['intents']:\n",
    "        patterns = intent['patterns']\n",
    "        responses = intent['responses']\n",
    "        \n",
    "        # Normalizamos los patrones para evitar problemas con tildes o mayúsculas\n",
    "        patterns_normalizados = [normalizar_texto(p) for p in patterns]\n",
    "        regex_pattern = r'\\b(' + '|'.join(map(re.escape, patterns_normalizados)) + r')\\b'\n",
    "        \n",
    "        # Agrupamos respuestas si ya existe un patrón similar\n",
    "        if regex_pattern in patrones_unificados:\n",
    "            patrones_unificados[regex_pattern].extend(responses)\n",
    "        else:\n",
    "            patrones_unificados[regex_pattern] = responses\n",
    "\n",
    "    # Convertimos el diccionario en la lista de tuplas (pattern, responses)\n",
    "    for pattern, responses in patrones_unificados.items():\n",
    "        patrones_respuestas.append((pattern, responses))\n",
    "\n",
    "    return patrones_respuestas"
   ]
  },
  {
   "cell_type": "code",
   "execution_count": 131,
   "metadata": {},
   "outputs": [
    {
     "name": "stdout",
     "output_type": "stream",
     "text": [
      "('\\\\b(contacto)\\\\b', ['Correo: 46019015@edu.gva.es\\nFAX : 961206091\\nE-mail: 46019015.secretaria@edu.gva.es\\nTelefono : 961206090'])\n",
      "('\\\\b(correo)\\\\b', ['Correo: 46019015@edu.gva.es\\nE-mail: 46019015.secretaria@edu.gva.es'])\n",
      "('\\\\b(fax)\\\\b', ['FAX : 961206091'])\n",
      "('\\\\b(telefono)\\\\b', ['Telefono : 961206090'])\n",
      "('\\\\b(¿que\\\\ informacion\\\\ hay\\\\ sobre\\\\ paginas\\\\ web\\\\?)\\\\b', ['http://www.dmae.upct.es/~juan/matematicas.htm', 'https://areatablet.wordpress.com/', 'http://www.ceice.gva.es/doc046/gen/es/tasas.asp?idf=TITULOS', 'https://ceice.gva.es/es/web/formacion-profesional/pruebas-de-acceso-a-ciclos-formativos', 'https://media.upv.es/#/catalog/channel/eda03965-19d6-1a4e-abaf-cf5b04ce1a6e', 'http://www.intersindical.org/escola/activitat/9081', 'https://portal.edu.gva.es/46019015/', 'http://cefire.edu.gva.es/sfp/index.php?usuario=formacion', 'http://www.ceice.gva.es/doc046/gen/val/tasas.asp?idf = ADMIN', 'http://www.apuntesmareaverde.org.es/', 'http://www.ceice.gva.es/doc046/gen/val/tasas.asp?idf=TITULOS', 'http://librosmareaverde.tk/', 'http://recursostic.educacion.es/secundaria/edad/', 'http://capileiraticrecursos.wikispaces.com/', 'http://www.factoriadeltutor.com', 'http://www.competenciasbasicashuelva.net/index.php?option=com_content&view=article&id=58&Itemid=28', 'http://www.ceice.gva.es/doc046/gen/es/tasas.asp?idf=ADMIN', 'https://ceice.gva.es/doc046/gen/es/tasas.asp?idf=PRUEBAS', 'https://ceice.gva.es/va/web/formacion-profesional/subvencions-alumnat-fp', 'https://www.youtube.com/watch?v=Oy_e4N-vMvM', 'https://www.docv.gva.es/datos/2015/11/18/pdf/2015_9263.pdf', 'http://www.ceice.gva.es/doc046/gen/val/tasas.asp?idf=ADMIN', 'http://www.ceice.gva.es/va/web/formacion-profesional/presentacion-y-calendario', 'http://es.slideshare.net/diarca24/cmo-programar-y-evaluar-por-competencias-presentation'])\n",
      "('\\\\b(ubicacion)\\\\b', [\"Ciutat : TORRENT\\nCalle : CL CORONA D'ARAGO 1\\nCodi Postal : 46900\"])\n",
      "('\\\\b(calle)\\\\b', [\"Calle : CL CORONA D'ARAGO 1\"])\n",
      "('\\\\b(ciudad)\\\\b', ['Ciutat : TORRENT'])\n",
      "('\\\\b(codigo\\\\ postal)\\\\b', ['Codi Postal : 46900'])\n",
      "('\\\\b(cursos)\\\\b', [\"PREMIOS De FP\\nBatxillerat\\nGrado Superior\\nGrau Superior Desenvolupament d'Aplicacions Multiplataforma\\nIntelligncia Artificial i Big data\\n2 ESO\\nGrau Superior\\n3 ESO\\n4 ESO\\nGrau Superior Administraci i Finances\\nGrau Superior Desenvolupament d'Aplicacions Web\"])\n"
     ]
    }
   ],
   "source": [
    "# Ruta del archivo JSON\n",
    "ruta_archivo = '..\\\\datos web\\\\output.json'\n",
    "patrones_respuestas = leer_json_y_generar_patrones_respuestas(ruta_archivo)\n",
    "\n",
    "for item in patrones_respuestas:\n",
    "    print(item)"
   ]
  },
  {
   "cell_type": "code",
   "execution_count": 132,
   "metadata": {},
   "outputs": [],
   "source": [
    "# Crear el chatbot usando `nltk.Chat`\n",
    "chatbot = Chat(patrones_respuestas, reflections)\n"
   ]
  },
  {
   "cell_type": "code",
   "execution_count": 133,
   "metadata": {},
   "outputs": [],
   "source": [
    "def estilo_boton(boton):\n",
    "    boton.config(bg=\"#3498DB\", fg=\"white\", font=(\"Arial\", 10, \"bold\"), relief=\"flat\", bd=0, padx=10, pady=5)\n",
    "    boton.bind(\"<Enter>\", lambda e: boton.config(bg=\"#2980B9\"))\n",
    "    boton.bind(\"<Leave>\", lambda e: boton.config(bg=\"#3498DB\"))"
   ]
  },
  {
   "cell_type": "code",
   "execution_count": 134,
   "metadata": {},
   "outputs": [],
   "source": [
    "#Cargar historial desde JSON\n",
    "def cargar_historial():\n",
    "    if os.path.exists(HISTORIAL_FILE):\n",
    "        with open(HISTORIAL_FILE, \"r\", encoding=\"utf-8\") as file:\n",
    "            return json.load(file)\n",
    "    return {}"
   ]
  },
  {
   "cell_type": "code",
   "execution_count": 135,
   "metadata": {},
   "outputs": [],
   "source": [
    "\n",
    "#Guardar historial en JSON\n",
    "def guardar_historial(historial):\n",
    "    with open(HISTORIAL_FILE, \"w\", encoding=\"utf-8\") as file:\n",
    "        json.dump(historial, file, indent=4, ensure_ascii=False)"
   ]
  },
  {
   "cell_type": "code",
   "execution_count": 136,
   "metadata": {},
   "outputs": [],
   "source": [
    "#Verifica si el usuario existe y muestra su historial\n",
    "def iniciar_sesion():\n",
    "    nombre = entry_nombre.get().strip()\n",
    "    if not nombre:\n",
    "        messagebox.showwarning(\"Error\", \"Por favor, ingrese su nombre\")\n",
    "        return\n",
    "\n",
    "    historial = cargar_historial()\n",
    "    if nombre not in historial:\n",
    "        historial[nombre] = []  #Crear historial vacío para nuevos usuarios\n",
    "        guardar_historial(historial)\n",
    "\n",
    "    ventana_login.destroy()  #Cerrar la ventana de login\n",
    "    mostrar_chat(nombre, historial)"
   ]
  },
  {
   "cell_type": "code",
   "execution_count": 137,
   "metadata": {},
   "outputs": [],
   "source": [
    "#Ventana de historial\n",
    "def mostrar_historial(nombre, historial):\n",
    "    ventana_historial = tk.Toplevel()\n",
    "    ventana_historial.title(f\"Historial de {nombre}\")\n",
    "    ventana_historial.geometry(\"400x400\")\n",
    "    ventana_historial.configure(bg=\"#2C3E50\")\n",
    "\n",
    "    historial_text = scrolledtext.ScrolledText(ventana_historial, wrap=tk.WORD, width=50, height=20, bg=\"#ECF0F1\", fg=\"#2C3E50\", font=(\"Arial\", 10))\n",
    "    historial_text.pack(padx=10, pady=10)\n",
    "    historial_text.insert(tk.END, \"\\n\".join(historial[nombre]) + \"\\n\")  #Cargar historial completo\n",
    "    historial_text.config(state=tk.DISABLED)"
   ]
  },
  {
   "cell_type": "code",
   "execution_count": 138,
   "metadata": {},
   "outputs": [],
   "source": [
    "#Eliminar historial de usuario\n",
    "def borrar_historial(nombre, historial, chat_text):\n",
    "    if messagebox.askyesno(\"Borrar Historial\", \"¿Estás seguro de que quieres borrar tu historial?\"):\n",
    "        historial[nombre] = []\n",
    "        guardar_historial(historial)\n",
    "        chat_text.config(state=tk.NORMAL)\n",
    "        chat_text.delete(1.0, tk.END)\n",
    "        chat_text.config(state=tk.DISABLED)\n",
    "        messagebox.showinfo(\"Historial Borrado\", \"Tu historial ha sido eliminado correctamente.\")\n"
   ]
  },
  {
   "cell_type": "code",
   "execution_count": 139,
   "metadata": {},
   "outputs": [],
   "source": [
    "#Interfaz de chat con historial\n",
    "def mostrar_chat(nombre, historial):\n",
    "    ventana_chat = tk.Tk()\n",
    "    ventana_chat.title(f\"Chat de {nombre}\")\n",
    "    ventana_chat.geometry(\"400x500\")\n",
    "    ventana_chat.configure(bg=\"#2C3E50\")\n",
    "\n",
    "    chat_text = scrolledtext.ScrolledText(ventana_chat, wrap=tk.WORD, width=50, height=15, bg=\"#ECF0F1\", fg=\"#2C3E50\", font=(\"Arial\", 10))\n",
    "    chat_text.pack(padx=10, pady=10)\n",
    "    chat_text.insert(tk.END, \"\\n\".join(historial[nombre]) + \"\\n\")  #Cargar historial reciente\n",
    "    chat_text.config(state=tk.DISABLED)\n",
    "\n",
    "    entrada_texto = tk.Entry(ventana_chat, width=40, font=(\"Arial\", 10), bg=\"#ECF0F1\", fg=\"#2C3E50\")\n",
    "    entrada_texto.pack(pady=5)\n",
    "\n",
    "    def enviar_mensaje():\n",
    "        mensaje = entrada_texto.get().strip()\n",
    "        user_input_normalizado = normalizar_texto(mensaje)\n",
    "        if user_input_normalizado:\n",
    "            if user_input_normalizado in [\"exit\", \"quit\"]:\n",
    "                ventana_chat.destroy()  # Close the chat window\n",
    "                return\n",
    "\n",
    "            timestamp = datetime.now().strftime(\"[%Y-%m-%d %H:%M:%S]\")\n",
    "            chat_text.config(state=tk.NORMAL)\n",
    "            chat_text.insert(tk.END, f\"\\n{timestamp} You: {user_input_normalizado}\\n\")\n",
    "            chat_text.config(state=tk.DISABLED)\n",
    "\n",
    "            response = None\n",
    "            for pattern, respuestas in patrones_respuestas:\n",
    "                if re.search(pattern, user_input_normalizado, re.IGNORECASE):  # Busca sin importar mayúsculas o minúsculas\n",
    "                    response = random.choice(respuestas)\n",
    "                    break\n",
    "\n",
    "            if response:\n",
    "                chat_text.config(state=tk.NORMAL)\n",
    "                chat_text.insert(tk.END, f\"{timestamp} SerraBot: {response}\\n\")\n",
    "                chat_text.config(state=tk.DISABLED)\n",
    "                historial[nombre].append(f\"{timestamp} You: {user_input_normalizado}\")\n",
    "                historial[nombre].append(f\"{timestamp} SerraBot: {response}\")\n",
    "                guardar_historial(historial)\n",
    "\n",
    "            entrada_texto.delete(0, tk.END)\n",
    "\n",
    "\n",
    "    boton_enviar = tk.Button(ventana_chat, text=\"Enviar\", command=enviar_mensaje, bg=\"#3498DB\", fg=\"white\", font=(\"Arial\", 10, \"bold\"), height=2, width=6)\n",
    "    estilo_boton(boton_enviar)\n",
    "    boton_enviar.pack(pady=15)\n",
    "\n",
    "    boton_historial = tk.Button(ventana_chat, text=\"Ver Historial Completo\", command=lambda: mostrar_historial(nombre, historial), bg=\"#E74C3C\", fg=\"white\", font=(\"Arial\", 10, \"bold\"))\n",
    "    estilo_boton(boton_historial)\n",
    "    boton_historial.pack(pady=5)\n",
    "\n",
    "    boton_borrar = tk.Button(ventana_chat, text=\"Borrar Historial\", command=lambda: borrar_historial(nombre, historial, chat_text), bg=\"#C0392B\", fg=\"white\", font=(\"Arial\", 10, \"bold\"))\n",
    "    estilo_boton(boton_borrar)\n",
    "    boton_borrar.pack(pady=5)\n",
    "\n",
    "    ventana_chat.mainloop()"
   ]
  },
  {
   "cell_type": "code",
   "execution_count": 140,
   "metadata": {},
   "outputs": [],
   "source": [
    "\n",
    "#Ventana de inicio de sesión\n",
    "ventana_login = tk.Tk()\n",
    "ventana_login.title(\"Inicio de Sesión\")\n",
    "ventana_login.geometry(\"450x350\")\n",
    "ventana_login.configure(bg=\"#2C3E50\")\n",
    "\n",
    "tk.Label(ventana_login, text=\"Bienvenido a SerraBot\", fg=\"white\", bg=\"#2C3E50\", font=(\"Arial\", 12, \"bold\")).pack(pady=10)\n",
    "tk.Label(ventana_login, text=\"Ingrese su nombre:\", fg=\"white\", bg=\"#2C3E50\", font=(\"Arial\", 12, \"bold\")).pack(pady=10)\n",
    "entry_nombre = tk.Entry(ventana_login, font=(\"Arial\", 10), bg=\"#ECF0F1\", fg=\"#2C3E50\")\n",
    "entry_nombre.pack()\n",
    "\n",
    "\n",
    "btn_ingresar = tk.Button(ventana_login, text=\"Acceder al chat\", command=iniciar_sesion, bg=\"#27AE60\", fg=\"white\", font=(\"Arial\", 10, \"bold\"))\n",
    "estilo_boton(btn_ingresar)\n",
    "btn_ingresar.pack(pady=10)\n",
    "\n",
    "ventana_login.mainloop()"
   ]
  }
 ],
 "metadata": {
  "colab": {
   "provenance": []
  },
  "kernelspec": {
   "display_name": "base",
   "language": "python",
   "name": "python3"
  },
  "language_info": {
   "codemirror_mode": {
    "name": "ipython",
    "version": 3
   },
   "file_extension": ".py",
   "mimetype": "text/x-python",
   "name": "python",
   "nbconvert_exporter": "python",
   "pygments_lexer": "ipython3",
   "version": "3.12.3"
  }
 },
 "nbformat": 4,
 "nbformat_minor": 0
}
