{
 "cells": [
  {
   "cell_type": "code",
   "execution_count": 17,
   "metadata": {},
   "outputs": [],
   "source": [
    "import nltk\n",
    "from nltk.chat.util import Chat, reflections\n",
    "import json\n",
    "import re\n",
    "import unicodedata\n",
    "import random"
   ]
  },
  {
   "cell_type": "code",
   "execution_count": 18,
   "metadata": {},
   "outputs": [],
   "source": [
    "def normalizar_texto(texto):\n",
    "    \"\"\"\n",
    "    Convierte texto a minúsculas y elimina tildes para mejorar la coincidencia de patrones.\n",
    "    \"\"\"\n",
    "    texto = texto.lower()\n",
    "    texto = ''.join(c for c in unicodedata.normalize('NFD', texto) if unicodedata.category(c) != 'Mn')  # Elimina tildes\n",
    "    return texto"
   ]
  },
  {
   "cell_type": "code",
   "execution_count": 19,
   "metadata": {},
   "outputs": [],
   "source": [
    "def leer_json_y_generar_patrones_respuestas(ruta_archivo):\n",
    "    with open(ruta_archivo, 'r', encoding='utf-8') as archivo:\n",
    "        data = json.load(archivo)\n",
    "    \n",
    "    patrones_respuestas = []\n",
    "    patrones_unificados = {}  # Para agrupar patrones similares en una sola expresión\n",
    "\n",
    "    for intent in data['intents']:\n",
    "        patterns = intent['patterns']\n",
    "        responses = intent['responses']\n",
    "        \n",
    "        # Normalizamos los patrones para evitar problemas con tildes o mayúsculas\n",
    "        patterns_normalizados = [normalizar_texto(p) for p in patterns]\n",
    "        regex_pattern = r'\\b(' + '|'.join(map(re.escape, patterns_normalizados)) + r')\\b'\n",
    "        \n",
    "        # Agrupamos respuestas si ya existe un patrón similar\n",
    "        if regex_pattern in patrones_unificados:\n",
    "            patrones_unificados[regex_pattern].extend(responses)\n",
    "        else:\n",
    "            patrones_unificados[regex_pattern] = responses\n",
    "\n",
    "    # Convertimos el diccionario en la lista de tuplas (pattern, responses)\n",
    "    for pattern, responses in patrones_unificados.items():\n",
    "        patrones_respuestas.append((pattern, responses))\n",
    "\n",
    "    return patrones_respuestas"
   ]
  },
  {
   "cell_type": "code",
   "execution_count": 20,
   "metadata": {},
   "outputs": [],
   "source": [
    "# Ruta del archivo JSON\n",
    "ruta_archivo = '..\\\\datos web\\\\output.json'\n",
    "patrones_respuestas = leer_json_y_generar_patrones_respuestas(ruta_archivo)"
   ]
  },
  {
   "cell_type": "code",
   "execution_count": 21,
   "metadata": {},
   "outputs": [
    {
     "name": "stdout",
     "output_type": "stream",
     "text": [
      "('\\\\b(contacto)\\\\b', ['Correo: 46019015@edu.gva.es\\nFAX : 961206091\\nE-mail: 46019015.secretaria@edu.gva.es\\nTelefono : 961206090'])\n",
      "('\\\\b(correo)\\\\b', ['Correo: 46019015@edu.gva.es\\nE-mail: 46019015.secretaria@edu.gva.es'])\n",
      "('\\\\b(fax)\\\\b', ['FAX : 961206091'])\n",
      "('\\\\b(telefono)\\\\b', ['Telefono : 961206090'])\n",
      "('\\\\b(¿que\\\\ informacion\\\\ hay\\\\ sobre\\\\ paginas\\\\ web\\\\?)\\\\b', ['http://www.dmae.upct.es/~juan/matematicas.htm', 'https://areatablet.wordpress.com/', 'http://www.ceice.gva.es/doc046/gen/es/tasas.asp?idf=TITULOS', 'https://ceice.gva.es/es/web/formacion-profesional/pruebas-de-acceso-a-ciclos-formativos', 'https://media.upv.es/#/catalog/channel/eda03965-19d6-1a4e-abaf-cf5b04ce1a6e', 'http://www.intersindical.org/escola/activitat/9081', 'https://portal.edu.gva.es/46019015/', 'http://cefire.edu.gva.es/sfp/index.php?usuario=formacion', 'http://www.ceice.gva.es/doc046/gen/val/tasas.asp?idf = ADMIN', 'http://www.apuntesmareaverde.org.es/', 'http://www.ceice.gva.es/doc046/gen/val/tasas.asp?idf=TITULOS', 'http://librosmareaverde.tk/', 'http://recursostic.educacion.es/secundaria/edad/', 'http://capileiraticrecursos.wikispaces.com/', 'http://www.factoriadeltutor.com', 'http://www.competenciasbasicashuelva.net/index.php?option=com_content&view=article&id=58&Itemid=28', 'http://www.ceice.gva.es/doc046/gen/es/tasas.asp?idf=ADMIN', 'https://ceice.gva.es/doc046/gen/es/tasas.asp?idf=PRUEBAS', 'https://ceice.gva.es/va/web/formacion-profesional/subvencions-alumnat-fp', 'https://www.youtube.com/watch?v=Oy_e4N-vMvM', 'https://www.docv.gva.es/datos/2015/11/18/pdf/2015_9263.pdf', 'http://www.ceice.gva.es/doc046/gen/val/tasas.asp?idf=ADMIN', 'http://www.ceice.gva.es/va/web/formacion-profesional/presentacion-y-calendario', 'http://es.slideshare.net/diarca24/cmo-programar-y-evaluar-por-competencias-presentation'])\n",
      "('\\\\b(ubicacion)\\\\b', [\"Ciutat : TORRENT\\nCalle : CL CORONA D'ARAGO 1\\nCodi Postal : 46900\"])\n",
      "('\\\\b(calle)\\\\b', [\"Calle : CL CORONA D'ARAGO 1\"])\n",
      "('\\\\b(ciudad)\\\\b', ['Ciutat : TORRENT'])\n",
      "('\\\\b(codigo\\\\ postal)\\\\b', ['Codi Postal : 46900'])\n",
      "('\\\\b(cursos)\\\\b', [\"PREMIOS De FP\\nBatxillerat\\nGrado Superior\\nGrau Superior Desenvolupament d'Aplicacions Multiplataforma\\nIntelligncia Artificial i Big data\\n2 ESO\\nGrau Superior\\n3 ESO\\n4 ESO\\nGrau Superior Administraci i Finances\\nGrau Superior Desenvolupament d'Aplicacions Web\"])\n"
     ]
    }
   ],
   "source": [
    "# ruta_archivo = '..\\\\datos web\\\\output.json'\n",
    "# patrones_respuestas = leer_json_y_generar_patrones_respuestas(ruta_archivo)\n",
    "\n",
    "for item in patrones_respuestas:\n",
    "    print(item)"
   ]
  },
  {
   "cell_type": "code",
   "execution_count": 22,
   "metadata": {},
   "outputs": [
    {
     "name": "stdout",
     "output_type": "stream",
     "text": [
      "Chatbot: Hi! Type 'exit' to end the conversation.\n",
      "Chatbot: I'm not sure how to respond to that.\n",
      "Chatbot: PREMIOS De FP\n",
      "Batxillerat\n",
      "Grado Superior\n",
      "Grau Superior Desenvolupament d'Aplicacions Multiplataforma\n",
      "Intelligncia Artificial i Big data\n",
      "2 ESO\n",
      "Grau Superior\n",
      "3 ESO\n",
      "4 ESO\n",
      "Grau Superior Administraci i Finances\n",
      "Grau Superior Desenvolupament d'Aplicacions Web\n",
      "Chatbot: Telefono : 961206090\n",
      "Chatbot: Telefono : 961206090\n",
      "Chatbot: Goodbye!\n"
     ]
    }
   ],
   "source": [
    "# Crear el chatbot usando `nltk.Chat`\n",
    "chatbot = Chat(patrones_respuestas, reflections)\n",
    "\n",
    "print(\"Chatbot: Hi! Type 'exit' to end the conversation.\")\n",
    "while True:\n",
    "    user_input = input(\"You: \").strip()\n",
    "    user_input_normalizado = normalizar_texto(user_input)\n",
    "\n",
    "    if user_input_normalizado in [\"exit\", \"quit\"]:\n",
    "        print(\"Chatbot: Goodbye!\")\n",
    "        break\n",
    "\n",
    "    response = None\n",
    "    for pattern, responses in patrones_respuestas:\n",
    "        if re.search(pattern, user_input_normalizado, re.IGNORECASE):  # Busca sin importar mayúsculas o minúsculas\n",
    "            response = random.choice(responses)\n",
    "            break\n",
    "\n",
    "    if response:\n",
    "        print(f\"Chatbot: {response}\")\n",
    "    else:\n",
    "        print(\"Chatbot: I'm not sure how to respond to that.\")"
   ]
  }
 ],
 "metadata": {
  "colab": {
   "provenance": []
  },
  "kernelspec": {
   "display_name": "Python 3",
   "language": "python",
   "name": "python3"
  },
  "language_info": {
   "codemirror_mode": {
    "name": "ipython",
    "version": 3
   },
   "file_extension": ".py",
   "mimetype": "text/x-python",
   "name": "python",
   "nbconvert_exporter": "python",
   "pygments_lexer": "ipython3",
   "version": "3.11.0"
  }
 },
 "nbformat": 4,
 "nbformat_minor": 0
}
