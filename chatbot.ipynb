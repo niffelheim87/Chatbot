{
 "cells": [
  {
   "cell_type": "code",
   "execution_count": 5,
   "metadata": {},
   "outputs": [],
   "source": [
    "import nltk\n",
    "from nltk.chat.util import Chat, reflections\n",
    "from tkinter import *"
   ]
  },
  {
   "cell_type": "code",
   "execution_count": 6,
   "metadata": {},
   "outputs": [],
   "source": [
    "# Definir patrones y respuestas\n",
    "patterns_responses = [\n",
    "    (r'hello|hi|hey|hola|que tal|qué tal|buenos dias|buenos días|buenas tardes|buenas noches', ['¡Hola! ¿Cómo puedo ayudarte hoy?']),\n",
    "    (r'mondongo', ['mondongo tu']),\n",
    "    (r'how are you', ['I am just a bot, but I am doing fine!']),\n",
    "    (r'what is your name', ['I am a chatbot created with NLTK.']),\n",
    "    (r'quit|exit', ['Goodbye! Have a great day!']),\n",
    "    (r'(.*) your (.*)', ['Why do you want to know about my {1}?'])\n",
    "]\n",
    "\n",
    "# Crear el chatbot\n",
    "chatbot = Chat(patterns_responses, reflections)"
   ]
  },
  {
   "cell_type": "code",
   "execution_count": 9,
   "metadata": {},
   "outputs": [],
   "source": [
    "# Define la función para enviar el mensaje\n",
    "def send(event=None):\n",
    "    global chatbot  # Asegurar que se use la instancia global de chatbot\n",
    "    # Obtén el texto del EntryBox\n",
    "    msg = EntryBox.get(\"1.0\", 'end-1c').strip()\n",
    "    EntryBox.delete(\"0.0\", END)\n",
    "\n",
    "    if msg != \"\":\n",
    "        # Mostrar el mensaje del usuario en el chat\n",
    "        ChatLog.config(state=NORMAL)\n",
    "        ChatLog.insert(END, \"You: \" + msg + '\\n\\n')\n",
    "        ChatLog.config(foreground=\"#442265\", font=(\"Verdana\", 12))\n",
    "\n",
    "        # Obtener la respuesta del chatbot\n",
    "        response = chatbot.respond(msg.lower())\n",
    "        if response:\n",
    "            ChatLog.insert(END, \"SerraBot: \" + response + '\\n\\n')\n",
    "        else:\n",
    "            ChatLog.insert(END, \"SerraBot: I'm not sure how to respond to that.\\n\\n\")\n",
    "\n",
    "        ChatLog.config(state=DISABLED)\n",
    "        ChatLog.yview(END)\n",
    "\n",
    "# Inicializa la ventana principal de Tkinter\n",
    "base = Tk()\n",
    "\n",
    "# Configura el título de la ventana\n",
    "base.title(\"SerraBot\")\n",
    "\n",
    "# Establece el tamaño de la ventana\n",
    "base.geometry(\"400x500\")\n",
    "\n",
    "# Evita que el usuario cambie el tamaño de la ventana\n",
    "base.resizable(width=False, height=False)\n",
    "\n",
    "# Crear ChatLog - un widget de texto para mostrar la conversación\n",
    "ChatLog = Text(base, bd=0, bg=\"white\", height=\"8\", width=\"50\", font=\"Arial\")\n",
    "ChatLog.config(state=DISABLED)\n",
    "\n",
    "# Crear una barra de desplazamiento y enlazarla al ChatLog\n",
    "scrollbar = Scrollbar(base, command=ChatLog.yview, cursor=\"heart\")\n",
    "ChatLog['yscrollcommand'] = scrollbar.set\n",
    "\n",
    "# Crear EntryBox - un widget de texto para que el usuario escriba mensajes\n",
    "EntryBox = Text(base, bd=0, bg=\"white\", width=\"29\", height=\"5\", font=\"Arial\")\n",
    "\n",
    "# Enlazar la tecla Enter con la función send\n",
    "EntryBox.bind(\"<Return>\", send)\n",
    "\n",
    "# Colocar todos los componentes en la ventana\n",
    "scrollbar.place(x=376, y=6, height=386)\n",
    "ChatLog.place(x=6, y=6, height=386, width=370)\n",
    "EntryBox.place(x=128, y=401, height=90, width=265)\n",
    "\n",
    "# Iniciar el bucle de eventos de Tkinter\n",
    "base.mainloop()"
   ]
  }
 ],
 "metadata": {
  "colab": {
   "provenance": []
  },
  "kernelspec": {
   "display_name": "Python 3",
   "language": "python",
   "name": "python3"
  },
  "language_info": {
   "codemirror_mode": {
    "name": "ipython",
    "version": 3
   },
   "file_extension": ".py",
   "mimetype": "text/x-python",
   "name": "python",
   "nbconvert_exporter": "python",
   "pygments_lexer": "ipython3",
   "version": "3.10.6"
  }
 },
 "nbformat": 4,
 "nbformat_minor": 0
}
