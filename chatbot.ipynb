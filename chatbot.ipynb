{
 "cells": [
  {
   "cell_type": "code",
   "execution_count": 1,
   "metadata": {},
   "outputs": [],
   "source": [
    "import nltk\n",
    "from nltk.chat.util import Chat, reflections"
   ]
  },
  {
   "cell_type": "code",
   "execution_count": 4,
   "metadata": {},
   "outputs": [
    {
     "name": "stdout",
     "output_type": "stream",
     "text": [
      "Chatbot: Hi! Type 'exit' to end the conversation.\n",
      "Chatbot: mondongo tu\n",
      "Chatbot: mondongo tu\n",
      "Chatbot: mondongo tu\n",
      "Chatbot: ¡Hola! ¿Cómo puedo ayudarte hoy?\n",
      "Chatbot: mondongo tu\n"
     ]
    }
   ],
   "source": [
    "# Definir patrones y respuestas\n",
    "patterns_responses = [\n",
    "    (r'hello|hi|hey|hola|que tal|qué tal|buenos dias|buenos días|buenas tardes|buenas noches', ['¡Hola! ¿Cómo puedo ayudarte hoy?']),\n",
    "    (r'mondongo', ['mondongo tu']),\n",
    "    (r'how are you', ['I am just a bot, but I am doing fine!']),\n",
    "    (r'what is your name', ['I am a chatbot created with NLTK.']),\n",
    "    (r'quit|exit', ['Goodbye! Have a great day!']),\n",
    "    (r'(.*) your (.*)', ['Why do you want to know about my {1}?'])\n",
    "]\n",
    "\n",
    "# Crear el chatbot\n",
    "chatbot = Chat(patterns_responses, reflections)\n",
    "\n",
    "# Iniciar la conversación\n",
    "print(\"Chatbot: Hi! Type 'exit' to end the conversation.\")\n",
    "while True:\n",
    "    user_input = input(\"You: \").lower()  # Convertir a minúsculas para que coincida con los patrones\n",
    "    if user_input == 'exit':\n",
    "        print(\"Chatbot: Goodbye!\")\n",
    "        break\n",
    "    response = chatbot.respond(user_input)\n",
    "    if response:\n",
    "        print(f\"Chatbot: {response}\")\n",
    "    else:\n",
    "        print(\"Chatbot: I'm not sure how to respond to that.\")"
   ]
  }
 ],
 "metadata": {
  "colab": {
   "provenance": []
  },
  "kernelspec": {
   "display_name": "Python 3",
   "language": "python",
   "name": "python3"
  },
  "language_info": {
   "codemirror_mode": {
    "name": "ipython",
    "version": 3
   },
   "file_extension": ".py",
   "mimetype": "text/x-python",
   "name": "python",
   "nbconvert_exporter": "python",
   "pygments_lexer": "ipython3",
   "version": "3.12.4"
  }
 },
 "nbformat": 4,
 "nbformat_minor": 0
}
